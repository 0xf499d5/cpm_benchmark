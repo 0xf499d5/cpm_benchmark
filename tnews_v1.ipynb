{
 "cells": [
  {
   "cell_type": "code",
   "execution_count": null,
   "metadata": {
    "execution": {
     "iopub.execute_input": "2025-08-13T15:28:45.496315Z",
     "iopub.status.busy": "2025-08-13T15:28:45.496161Z",
     "iopub.status.idle": "2025-08-13T15:28:47.169961Z",
     "shell.execute_reply": "2025-08-13T15:28:47.169171Z",
     "shell.execute_reply.started": "2025-08-13T15:28:45.496299Z"
    },
    "trusted": true
   },
   "outputs": [],
   "source": [
    "from datasets import load_dataset, Dataset"
   ]
  },
  {
   "cell_type": "code",
   "execution_count": null,
   "metadata": {
    "execution": {
     "iopub.execute_input": "2025-08-13T15:28:54.568958Z",
     "iopub.status.busy": "2025-08-13T15:28:54.568645Z",
     "iopub.status.idle": "2025-08-13T15:29:01.771156Z",
     "shell.execute_reply": "2025-08-13T15:29:01.770428Z",
     "shell.execute_reply.started": "2025-08-13T15:28:54.568935Z"
    },
    "trusted": true
   },
   "outputs": [],
   "source": [
    "tnews_ds = load_dataset(\"clue/clue\", \"tnews\")"
   ]
  },
  {
   "cell_type": "code",
   "execution_count": null,
   "metadata": {
    "execution": {
     "iopub.execute_input": "2025-08-13T10:35:49.905214Z",
     "iopub.status.busy": "2025-08-13T10:35:49.904594Z",
     "iopub.status.idle": "2025-08-13T10:35:49.913520Z",
     "shell.execute_reply": "2025-08-13T10:35:49.912134Z",
     "shell.execute_reply.started": "2025-08-13T10:35:49.905182Z"
    },
    "trusted": true
   },
   "outputs": [],
   "source": [
    "tnews_ds"
   ]
  },
  {
   "cell_type": "code",
   "execution_count": null,
   "metadata": {
    "execution": {
     "iopub.execute_input": "2025-08-13T12:26:44.600497Z",
     "iopub.status.busy": "2025-08-13T12:26:44.600093Z",
     "iopub.status.idle": "2025-08-13T12:26:44.608480Z",
     "shell.execute_reply": "2025-08-13T12:26:44.607488Z",
     "shell.execute_reply.started": "2025-08-13T12:26:44.600468Z"
    },
    "trusted": true
   },
   "outputs": [],
   "source": [
    "tnews_ds[\"train\"][0]"
   ]
  },
  {
   "cell_type": "code",
   "execution_count": null,
   "metadata": {
    "execution": {
     "iopub.execute_input": "2025-08-13T10:36:14.310247Z",
     "iopub.status.busy": "2025-08-13T10:36:14.309808Z",
     "iopub.status.idle": "2025-08-13T10:36:14.317884Z",
     "shell.execute_reply": "2025-08-13T10:36:14.316753Z",
     "shell.execute_reply.started": "2025-08-13T10:36:14.310211Z"
    },
    "trusted": true
   },
   "outputs": [],
   "source": [
    "labels = train_set.features[\"label\"]\n",
    "labels"
   ]
  },
  {
   "cell_type": "code",
   "execution_count": null,
   "metadata": {
    "execution": {
     "iopub.execute_input": "2025-08-13T10:36:32.540476Z",
     "iopub.status.busy": "2025-08-13T10:36:32.540120Z",
     "iopub.status.idle": "2025-08-13T10:36:32.548086Z",
     "shell.execute_reply": "2025-08-13T10:36:32.547047Z",
     "shell.execute_reply.started": "2025-08-13T10:36:32.540453Z"
    },
    "trusted": true
   },
   "outputs": [],
   "source": [
    "type(labels)"
   ]
  },
  {
   "cell_type": "code",
   "execution_count": null,
   "metadata": {
    "execution": {
     "iopub.execute_input": "2025-08-13T15:29:29.716683Z",
     "iopub.status.busy": "2025-08-13T15:29:29.716207Z",
     "iopub.status.idle": "2025-08-13T15:29:30.062491Z",
     "shell.execute_reply": "2025-08-13T15:29:30.061735Z",
     "shell.execute_reply.started": "2025-08-13T15:29:29.716646Z"
    },
    "trusted": true
   },
   "outputs": [],
   "source": [
    "!wget https://storage.googleapis.com/cluebenchmark/tasks/tnews_public.zip"
   ]
  },
  {
   "cell_type": "code",
   "execution_count": null,
   "metadata": {
    "execution": {
     "iopub.execute_input": "2025-08-13T15:29:38.440797Z",
     "iopub.status.busy": "2025-08-13T15:29:38.440005Z",
     "iopub.status.idle": "2025-08-13T15:29:38.565499Z",
     "shell.execute_reply": "2025-08-13T15:29:38.564640Z",
     "shell.execute_reply.started": "2025-08-13T15:29:38.440763Z"
    },
    "trusted": true
   },
   "outputs": [],
   "source": [
    "!ls "
   ]
  },
  {
   "cell_type": "code",
   "execution_count": null,
   "metadata": {
    "execution": {
     "iopub.execute_input": "2025-08-13T15:29:40.604454Z",
     "iopub.status.busy": "2025-08-13T15:29:40.603615Z",
     "iopub.status.idle": "2025-08-13T15:29:40.855887Z",
     "shell.execute_reply": "2025-08-13T15:29:40.855058Z",
     "shell.execute_reply.started": "2025-08-13T15:29:40.604422Z"
    },
    "trusted": true
   },
   "outputs": [],
   "source": [
    "!unzip tnews_public.zip"
   ]
  },
  {
   "cell_type": "code",
   "execution_count": null,
   "metadata": {
    "execution": {
     "iopub.execute_input": "2025-08-13T15:29:44.975028Z",
     "iopub.status.busy": "2025-08-13T15:29:44.974247Z",
     "iopub.status.idle": "2025-08-13T15:29:45.101187Z",
     "shell.execute_reply": "2025-08-13T15:29:45.100302Z",
     "shell.execute_reply.started": "2025-08-13T15:29:44.974995Z"
    },
    "trusted": true
   },
   "outputs": [],
   "source": [
    "!ls"
   ]
  },
  {
   "cell_type": "code",
   "execution_count": null,
   "metadata": {
    "execution": {
     "iopub.execute_input": "2025-08-13T15:29:54.633878Z",
     "iopub.status.busy": "2025-08-13T15:29:54.633535Z",
     "iopub.status.idle": "2025-08-13T15:29:58.677805Z",
     "shell.execute_reply": "2025-08-13T15:29:58.676960Z",
     "shell.execute_reply.started": "2025-08-13T15:29:54.633849Z"
    },
    "trusted": true
   },
   "outputs": [],
   "source": [
    "!pip install jsonlines"
   ]
  },
  {
   "cell_type": "code",
   "execution_count": null,
   "metadata": {
    "execution": {
     "iopub.execute_input": "2025-08-13T15:30:01.801390Z",
     "iopub.status.busy": "2025-08-13T15:30:01.801081Z",
     "iopub.status.idle": "2025-08-13T15:30:01.822115Z",
     "shell.execute_reply": "2025-08-13T15:30:01.821345Z",
     "shell.execute_reply.started": "2025-08-13T15:30:01.801363Z"
    },
    "trusted": true
   },
   "outputs": [],
   "source": [
    "import jsonlines\n",
    "\n",
    "labels = []\n",
    "with jsonlines.open(\"labels.json\") as reader:\n",
    "    for obj in reader:\n",
    "        labels.append(obj)"
   ]
  },
  {
   "cell_type": "code",
   "execution_count": null,
   "metadata": {
    "execution": {
     "iopub.execute_input": "2025-08-13T15:30:04.394077Z",
     "iopub.status.busy": "2025-08-13T15:30:04.393375Z",
     "iopub.status.idle": "2025-08-13T15:30:04.398520Z",
     "shell.execute_reply": "2025-08-13T15:30:04.397747Z",
     "shell.execute_reply.started": "2025-08-13T15:30:04.394045Z"
    },
    "trusted": true
   },
   "outputs": [],
   "source": [
    "from pprint import pprint\n",
    "pprint(labels)\n",
    "print(len(labels))"
   ]
  },
  {
   "cell_type": "markdown",
   "metadata": {},
   "source": [
    "## 文本分类"
   ]
  },
  {
   "cell_type": "markdown",
   "metadata": {},
   "source": [
    "### 1 分词预处理"
   ]
  },
  {
   "cell_type": "code",
   "execution_count": null,
   "metadata": {
    "execution": {
     "iopub.execute_input": "2025-08-13T15:30:44.195170Z",
     "iopub.status.busy": "2025-08-13T15:30:44.194886Z",
     "iopub.status.idle": "2025-08-13T15:30:44.200439Z",
     "shell.execute_reply": "2025-08-13T15:30:44.199717Z",
     "shell.execute_reply.started": "2025-08-13T15:30:44.195149Z"
    },
    "trusted": true
   },
   "outputs": [],
   "source": [
    "tnews_ds"
   ]
  },
  {
   "cell_type": "code",
   "execution_count": null,
   "metadata": {
    "execution": {
     "iopub.execute_input": "2025-08-13T15:30:49.686222Z",
     "iopub.status.busy": "2025-08-13T15:30:49.685944Z",
     "iopub.status.idle": "2025-08-13T15:30:49.692424Z",
     "shell.execute_reply": "2025-08-13T15:30:49.691786Z",
     "shell.execute_reply.started": "2025-08-13T15:30:49.686203Z"
    },
    "trusted": true
   },
   "outputs": [],
   "source": [
    "valid_set = tnews_ds[\"validation\"]\n",
    "valid_set[0]"
   ]
  },
  {
   "cell_type": "code",
   "execution_count": null,
   "metadata": {
    "execution": {
     "iopub.execute_input": "2025-08-13T15:31:26.034104Z",
     "iopub.status.busy": "2025-08-13T15:31:26.033516Z",
     "iopub.status.idle": "2025-08-13T15:31:26.039083Z",
     "shell.execute_reply": "2025-08-13T15:31:26.038501Z",
     "shell.execute_reply.started": "2025-08-13T15:31:26.034079Z"
    },
    "trusted": true
   },
   "outputs": [],
   "source": [
    "label_names = valid_set.features[\"label\"].names\n",
    "label_names"
   ]
  },
  {
   "cell_type": "code",
   "execution_count": null,
   "metadata": {
    "execution": {
     "iopub.execute_input": "2025-08-13T15:31:39.242960Z",
     "iopub.status.busy": "2025-08-13T15:31:39.242622Z",
     "iopub.status.idle": "2025-08-13T15:31:39.248265Z",
     "shell.execute_reply": "2025-08-13T15:31:39.247526Z",
     "shell.execute_reply.started": "2025-08-13T15:31:39.242937Z"
    },
    "trusted": true
   },
   "outputs": [],
   "source": [
    "labels"
   ]
  },
  {
   "cell_type": "code",
   "execution_count": null,
   "metadata": {
    "execution": {
     "iopub.execute_input": "2025-08-13T15:31:46.342227Z",
     "iopub.status.busy": "2025-08-13T15:31:46.341365Z",
     "iopub.status.idle": "2025-08-13T15:31:46.347326Z",
     "shell.execute_reply": "2025-08-13T15:31:46.346720Z",
     "shell.execute_reply.started": "2025-08-13T15:31:46.342199Z"
    },
    "trusted": true
   },
   "outputs": [],
   "source": [
    "label_descs = {}\n",
    "for label in labels:\n",
    "    k, v = label[\"label\"], label[\"label_desc\"]\n",
    "    label_descs[k] = v\n",
    "\n",
    "label_descs"
   ]
  },
  {
   "cell_type": "code",
   "execution_count": null,
   "metadata": {
    "execution": {
     "iopub.execute_input": "2025-08-13T15:31:50.270765Z",
     "iopub.status.busy": "2025-08-13T15:31:50.270455Z",
     "iopub.status.idle": "2025-08-13T15:31:50.276089Z",
     "shell.execute_reply": "2025-08-13T15:31:50.275312Z",
     "shell.execute_reply.started": "2025-08-13T15:31:50.270744Z"
    },
    "trusted": true
   },
   "outputs": [],
   "source": [
    "id2labels = {i: v for i, v in enumerate(label_names)}\n",
    "id2labels"
   ]
  },
  {
   "cell_type": "code",
   "execution_count": null,
   "metadata": {
    "execution": {
     "iopub.execute_input": "2025-08-13T15:31:59.216838Z",
     "iopub.status.busy": "2025-08-13T15:31:59.216268Z",
     "iopub.status.idle": "2025-08-13T15:32:38.247522Z",
     "shell.execute_reply": "2025-08-13T15:32:38.246717Z",
     "shell.execute_reply.started": "2025-08-13T15:31:59.216811Z"
    },
    "trusted": true
   },
   "outputs": [],
   "source": [
    "from transformers import AutoTokenizer\n",
    "\n",
    "tokenizer = AutoTokenizer.from_pretrained(\"TsinghuaAI/CPM-Generate\")"
   ]
  },
  {
   "cell_type": "code",
   "execution_count": null,
   "metadata": {
    "execution": {
     "iopub.execute_input": "2025-08-13T15:32:50.551307Z",
     "iopub.status.busy": "2025-08-13T15:32:50.550841Z",
     "iopub.status.idle": "2025-08-13T15:32:57.455597Z",
     "shell.execute_reply": "2025-08-13T15:32:57.454993Z",
     "shell.execute_reply.started": "2025-08-13T15:32:50.551287Z"
    },
    "trusted": true
   },
   "outputs": [],
   "source": [
    "def preprocess(samples):\n",
    "    tokenized = tokenizer(\n",
    "        samples[\"sentence\"],\n",
    "        truncation=True,\n",
    "        padding=\"max_length\",\n",
    "        # max_length=model.config.n_ctx\n",
    "        max_length=1024\n",
    "    )\n",
    "    tokenized[\"label_desc\"] = [id2labels[l] for l in samples[\"label\"]]\n",
    "    return tokenized\n",
    "\n",
    "# 应用预处理\n",
    "dataset = valid_set.map(preprocess, batched=True)"
   ]
  },
  {
   "cell_type": "code",
   "execution_count": null,
   "metadata": {
    "execution": {
     "iopub.execute_input": "2025-08-13T15:33:17.473529Z",
     "iopub.status.busy": "2025-08-13T15:33:17.473233Z",
     "iopub.status.idle": "2025-08-13T15:33:17.478404Z",
     "shell.execute_reply": "2025-08-13T15:33:17.477828Z",
     "shell.execute_reply.started": "2025-08-13T15:33:17.473498Z"
    },
    "trusted": true
   },
   "outputs": [],
   "source": [
    "dataset"
   ]
  },
  {
   "cell_type": "code",
   "execution_count": null,
   "metadata": {
    "execution": {
     "iopub.execute_input": "2025-08-13T15:33:27.056835Z",
     "iopub.status.busy": "2025-08-13T15:33:27.056337Z",
     "iopub.status.idle": "2025-08-13T15:33:27.063451Z",
     "shell.execute_reply": "2025-08-13T15:33:27.062868Z",
     "shell.execute_reply.started": "2025-08-13T15:33:27.056812Z"
    },
    "trusted": true
   },
   "outputs": [],
   "source": [
    "dataset[103][\"label_desc\"]"
   ]
  },
  {
   "cell_type": "markdown",
   "metadata": {},
   "source": [
    "### 2 加载模型"
   ]
  },
  {
   "cell_type": "code",
   "execution_count": null,
   "metadata": {
    "execution": {
     "iopub.execute_input": "2025-08-13T15:33:36.644142Z",
     "iopub.status.busy": "2025-08-13T15:33:36.643568Z",
     "iopub.status.idle": "2025-08-13T15:36:17.809813Z",
     "shell.execute_reply": "2025-08-13T15:36:17.808959Z",
     "shell.execute_reply.started": "2025-08-13T15:33:36.644121Z"
    },
    "trusted": true
   },
   "outputs": [],
   "source": [
    "from transformers import AutoModelForSequenceClassification\n",
    "\n",
    "ckpt = \"TsinghuaAI/CPM-Generate\"\n",
    "model = AutoModelForSequenceClassification.from_pretrained(\n",
    "    ckpt,\n",
    "    num_labels=len(label_names),\n",
    "    id2label=id2labels\n",
    ")"
   ]
  },
  {
   "cell_type": "code",
   "execution_count": null,
   "metadata": {
    "execution": {
     "iopub.execute_input": "2025-08-13T15:36:37.027933Z",
     "iopub.status.busy": "2025-08-13T15:36:37.026309Z",
     "iopub.status.idle": "2025-08-13T15:36:37.550856Z",
     "shell.execute_reply": "2025-08-13T15:36:37.549910Z",
     "shell.execute_reply.started": "2025-08-13T15:36:37.027891Z"
    },
    "trusted": true
   },
   "outputs": [],
   "source": [
    "from transformers import pipeline"
   ]
  },
  {
   "cell_type": "code",
   "execution_count": null,
   "metadata": {
    "execution": {
     "iopub.execute_input": "2025-08-13T15:36:43.166910Z",
     "iopub.status.busy": "2025-08-13T15:36:43.166134Z",
     "iopub.status.idle": "2025-08-13T15:37:25.969928Z",
     "shell.execute_reply": "2025-08-13T15:37:25.969116Z",
     "shell.execute_reply.started": "2025-08-13T15:36:43.166872Z"
    },
    "trusted": true
   },
   "outputs": [],
   "source": [
    "classifier = pipeline(\n",
    "    \"text-classification\", \n",
    "    # model=\"TsinghuaAI/CPM-Generate\",\n",
    "    model=model,\n",
    "    tokenizer=tokenizer\n",
    ")"
   ]
  },
  {
   "cell_type": "code",
   "execution_count": null,
   "metadata": {
    "execution": {
     "iopub.execute_input": "2025-08-13T15:37:32.137930Z",
     "iopub.status.busy": "2025-08-13T15:37:32.137145Z",
     "iopub.status.idle": "2025-08-13T15:37:32.169505Z",
     "shell.execute_reply": "2025-08-13T15:37:32.168683Z",
     "shell.execute_reply.started": "2025-08-13T15:37:32.137907Z"
    },
    "trusted": true
   },
   "outputs": [],
   "source": [
    "sents = [dataset[i][\"sentence\"] for i in range(10)]\n",
    "sents"
   ]
  },
  {
   "cell_type": "code",
   "execution_count": null,
   "metadata": {
    "execution": {
     "iopub.execute_input": "2025-08-13T15:37:45.979661Z",
     "iopub.status.busy": "2025-08-13T15:37:45.979364Z",
     "iopub.status.idle": "2025-08-13T15:37:46.876588Z",
     "shell.execute_reply": "2025-08-13T15:37:46.875831Z",
     "shell.execute_reply.started": "2025-08-13T15:37:45.979639Z"
    },
    "trusted": true
   },
   "outputs": [],
   "source": [
    "results = classifier(sents)\n",
    "results"
   ]
  },
  {
   "cell_type": "markdown",
   "metadata": {},
   "source": [
    "## 使用准确率作为分类评测指标"
   ]
  },
  {
   "cell_type": "code",
   "execution_count": null,
   "metadata": {
    "execution": {
     "iopub.execute_input": "2025-08-13T15:38:17.552598Z",
     "iopub.status.busy": "2025-08-13T15:38:17.552280Z",
     "iopub.status.idle": "2025-08-13T15:38:20.902048Z",
     "shell.execute_reply": "2025-08-13T15:38:20.900579Z",
     "shell.execute_reply.started": "2025-08-13T15:38:17.552571Z"
    },
    "trusted": true
   },
   "outputs": [],
   "source": [
    "!pip install --quiet evaluate"
   ]
  },
  {
   "cell_type": "code",
   "execution_count": null,
   "metadata": {
    "execution": {
     "iopub.execute_input": "2025-08-13T15:38:22.998477Z",
     "iopub.status.busy": "2025-08-13T15:38:22.997474Z",
     "iopub.status.idle": "2025-08-13T15:38:23.047258Z",
     "shell.execute_reply": "2025-08-13T15:38:23.046484Z",
     "shell.execute_reply.started": "2025-08-13T15:38:22.998444Z"
    },
    "trusted": true
   },
   "outputs": [],
   "source": [
    "import evaluate"
   ]
  },
  {
   "cell_type": "code",
   "execution_count": 45,
   "metadata": {
    "execution": {
     "iopub.execute_input": "2025-08-13T15:56:10.051248Z",
     "iopub.status.busy": "2025-08-13T15:56:10.050525Z",
     "iopub.status.idle": "2025-08-13T15:56:10.537837Z",
     "shell.execute_reply": "2025-08-13T15:56:10.536894Z",
     "shell.execute_reply.started": "2025-08-13T15:56:10.051225Z"
    },
    "trusted": true
   },
   "outputs": [],
   "source": [
    "acc_computer = evaluate.load(\"accuracy\")"
   ]
  },
  {
   "cell_type": "code",
   "execution_count": null,
   "metadata": {
    "execution": {
     "iopub.execute_input": "2025-08-13T15:43:41.033092Z",
     "iopub.status.busy": "2025-08-13T15:43:41.032751Z",
     "iopub.status.idle": "2025-08-13T15:43:44.198423Z",
     "shell.execute_reply": "2025-08-13T15:43:44.197400Z",
     "shell.execute_reply.started": "2025-08-13T15:43:41.033071Z"
    },
    "trusted": true
   },
   "outputs": [],
   "source": [
    "!pip install tqdm"
   ]
  },
  {
   "cell_type": "code",
   "execution_count": null,
   "metadata": {
    "execution": {
     "iopub.execute_input": "2025-08-13T15:44:45.203775Z",
     "iopub.status.busy": "2025-08-13T15:44:45.203411Z",
     "iopub.status.idle": "2025-08-13T15:44:45.207425Z",
     "shell.execute_reply": "2025-08-13T15:44:45.206626Z",
     "shell.execute_reply.started": "2025-08-13T15:44:45.203741Z"
    },
    "trusted": true
   },
   "outputs": [],
   "source": [
    "from tqdm import tqdm"
   ]
  },
  {
   "cell_type": "code",
   "execution_count": 46,
   "metadata": {
    "execution": {
     "iopub.execute_input": "2025-08-13T15:56:17.143477Z",
     "iopub.status.busy": "2025-08-13T15:56:17.142861Z",
     "iopub.status.idle": "2025-08-13T16:03:15.978431Z",
     "shell.execute_reply": "2025-08-13T16:03:15.977831Z",
     "shell.execute_reply.started": "2025-08-13T15:56:17.143452Z"
    },
    "trusted": true
   },
   "outputs": [
    {
     "name": "stderr",
     "output_type": "stream",
     "text": [
      "Classifing: 100%|██████████| 10000/10000 [06:58<00:00, 23.88it/s]\n"
     ]
    }
   ],
   "source": [
    "# count = 0\n",
    "for sample in tqdm(dataset, desc=\"Classifing\"):\n",
    "    result = classifier(sample[\"sentence\"])\n",
    "    expected = sample[\"label_desc\"]\n",
    "    actual = result[0][\"label\"]\n",
    "    # print(expected, actual)\n",
    "    acc_computer.add(references=expected, predictions=actual)\n",
    "    # print(sample[\"sentence\"])\n",
    "    # count += 1\n",
    "    # if count == 10:\n",
    "    #     break"
   ]
  },
  {
   "cell_type": "code",
   "execution_count": 47,
   "metadata": {
    "execution": {
     "iopub.execute_input": "2025-08-13T16:03:45.797263Z",
     "iopub.status.busy": "2025-08-13T16:03:45.796709Z",
     "iopub.status.idle": "2025-08-13T16:03:45.818849Z",
     "shell.execute_reply": "2025-08-13T16:03:45.818231Z",
     "shell.execute_reply.started": "2025-08-13T16:03:45.797240Z"
    },
    "trusted": true
   },
   "outputs": [
    {
     "data": {
      "text/plain": [
       "{'accuracy': 0.0803}"
      ]
     },
     "execution_count": 47,
     "metadata": {},
     "output_type": "execute_result"
    }
   ],
   "source": [
    "acc_computer.compute()"
   ]
  },
  {
   "cell_type": "code",
   "execution_count": 48,
   "metadata": {
    "execution": {
     "iopub.execute_input": "2025-08-13T16:04:25.199291Z",
     "iopub.status.busy": "2025-08-13T16:04:25.198546Z",
     "iopub.status.idle": "2025-08-13T16:04:25.203274Z",
     "shell.execute_reply": "2025-08-13T16:04:25.202410Z",
     "shell.execute_reply.started": "2025-08-13T16:04:25.199264Z"
    },
    "trusted": true
   },
   "outputs": [
    {
     "name": "stdout",
     "output_type": "stream",
     "text": [
      "8.03%\n"
     ]
    }
   ],
   "source": [
    "print(f\"{0.0803 * 100}%\")"
   ]
  }
 ],
 "metadata": {
  "kaggle": {
   "accelerator": "gpu",
   "dataSources": [],
   "dockerImageVersionId": 31089,
   "isGpuEnabled": true,
   "isInternetEnabled": true,
   "language": "python",
   "sourceType": "notebook"
  },
  "kernelspec": {
   "display_name": "Python 3",
   "language": "python",
   "name": "python3"
  },
  "language_info": {
   "codemirror_mode": {
    "name": "ipython",
    "version": 3
   },
   "file_extension": ".py",
   "mimetype": "text/x-python",
   "name": "python",
   "nbconvert_exporter": "python",
   "pygments_lexer": "ipython3",
   "version": "3.11.13"
  }
 },
 "nbformat": 4,
 "nbformat_minor": 4
}
